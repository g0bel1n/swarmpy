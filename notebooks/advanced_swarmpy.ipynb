{
 "cells": [
  {
   "cell_type": "markdown",
   "metadata": {},
   "source": [
    "# Advanced Swarmpy\n",
    "\n",
    "<a href=\"https://www.python.org/downloads/release/python-3100/\" \n",
    "target=\"_blank\"><img src=\"https://img.shields.io/badge/python-3.10-blue.svg\" alt=\"Python Version\" /></a>\n",
    "\n",
    "___\n",
    "\n",
    "Combining pipeline, masks and ant parameter randomization\n",
    "\n",
    "The goal here is to warmstart the pheromone trails by applying ACO to a partition of the graph. Therefore we use intermediate pipelines with mask and eventually apply iterations on the entire problem"
   ]
  },
  {
   "cell_type": "code",
   "execution_count": 1,
   "metadata": {},
   "outputs": [],
   "source": [
    "import os \n",
    "import numpy as np\n",
    "import matplotlib.pyplot as plt\n",
    "os.chdir('..')\n",
    "\n",
    "from swarmpy_tsp import *\n"
   ]
  },
  {
   "cell_type": "code",
   "execution_count": 2,
   "metadata": {},
   "outputs": [],
   "source": [
    "G, opt_score = Antcoder('test_set/berlin52')"
   ]
  },
  {
   "cell_type": "code",
   "execution_count": 3,
   "metadata": {},
   "outputs": [],
   "source": [
    "mask = np.ones_like(G['e'], dtype=bool)\n",
    "mask[:20, :20] = 0"
   ]
  },
  {
   "cell_type": "code",
   "execution_count": 4,
   "metadata": {},
   "outputs": [
    {
     "name": "stderr",
     "output_type": "stream",
     "text": [
      "SwarmPy |Step| Score : 6350.968978951111: 100%|██████████| 10/10 [00:01<00:00,  6.28it/s]\n",
      "SwarmPy |Step| Score : 5380.507090057493: 100%|██████████| 10/10 [00:00<00:00, 11.24it/s]\n",
      "SwarmPy |Final Step| Score : 7899.921463936534: 100%|██████████| 30/30 [00:06<00:00,  4.45it/s]\n",
      "SwarmPy | Score : 7899.921463936534: 100%|██████████| 1/1 [00:09<00:00,  9.24s/it]\n"
     ]
    }
   ],
   "source": [
    "aco_with_Daemon1 = ACO_Pipeline(\n",
    "    [\n",
    "        (\"Planner\", RandomizedPlanner(alpha_bounds=[1.0,1.0], beta_bounds=[1.0,6.0], ant_params={'mask':mask})),\n",
    "        (\"Sol\", SolutionConstructor()),\n",
    "        (\"Updater\", BestTourPheromonesUpdater(bounds=[0.4,.6])),\n",
    " ], iter_max=10, as_step=True\n",
    ")\n",
    "\n",
    "aco_with_Daemon2 = ACO_Pipeline(\n",
    "    [\n",
    "        (\"Planner\", RandomizedPlanner(alpha_bounds=[1.0,1.0], beta_bounds=[1.0,6.0], ant_params={'mask':~mask})),\n",
    "        (\"Sol\", SolutionConstructor()),\n",
    "        (\"Updater\", BestTourPheromonesUpdater(bounds=[0.4,.6])),\n",
    "        \n",
    " ], iter_max=10, as_step=True\n",
    ")\n",
    "\n",
    "aco_final = ACO_Pipeline(\n",
    "    [\n",
    "        (\"Planner\", RandomizedPlanner(alpha_bounds=[1.0,1.0], beta_bounds=[1.0,6.0])),\n",
    "        (\"Sol\", SolutionConstructor()),\n",
    "        (\"DA\", DaemonActions()),\n",
    "        (\"Updater\", BestTourPheromonesUpdater(bounds=[0.1,1])),\n",
    "        \n",
    " ], iter_max=30, last_step=True\n",
    ")\n",
    "\n",
    "optimus_prime_pipeline = ACO_Pipeline([('a', aco_with_Daemon1), ('b',aco_with_Daemon2), ('d',aco_final)], iter_max=1, metapipeline=True)\n",
    "\n",
    "solutions_w_daemon = optimus_prime_pipeline.run(G=G,)\n",
    "\n"
   ]
  },
  {
   "cell_type": "code",
   "execution_count": 5,
   "metadata": {},
   "outputs": [
    {
     "data": {
      "image/png": "[encoded data removed]",
      "text/plain": [
       "<Figure size 432x288 with 1 Axes>"
      ]
     },
     "metadata": {
      "needs_background": "light"
     },
     "output_type": "display_data"
    }
   ],
   "source": [
    "scores_w_daemon = np.array([el[1] for el in solutions_w_daemon['solutions']]) - opt_score\n",
    "\n",
    "plt.plot(scores_w_daemon)\n",
    "plt.xlabel('Iterations')\n",
    "plt.ylabel('Gap between best solution and optimal solution')\n",
    "plt.show()"
   ]
  },
  {
   "cell_type": "code",
   "execution_count": null,
   "metadata": {},
   "outputs": [],
   "source": []
  }
 ],
 "metadata": {
  "kernelspec": {
   "display_name": "Python 3.10.4 ('swarmpy-env')",
   "language": "python",
   "name": "python3"
  },
  "language_info": {
   "codemirror_mode": {
    "name": "ipython",
    "version": 3
   },
   "file_extension": ".py",
   "mimetype": "text/x-python",
   "name": "python",
   "nbconvert_exporter": "python",
   "pygments_lexer": "ipython3",
   "version": "3.10.4"
  },
  "orig_nbformat": 4,
  "vscode": {
   "interpreter": {
    "hash": "de8fa8ea3bb9edb7ed5b1ea3585d4592cef30b33e9fbed2d4a49b72c1728da03"
   }
  }
 },
 "nbformat": 4,
 "nbformat_minor": 2
}
