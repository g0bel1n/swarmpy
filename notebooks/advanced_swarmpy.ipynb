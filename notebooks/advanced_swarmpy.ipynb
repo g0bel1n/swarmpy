{
 "cells": [
  {
   "cell_type": "markdown",
   "metadata": {},
   "source": [
    "# Advanced Swarmpy\n",
    "\n",
    "<a href=\"https://www.python.org/downloads/release/python-3100/\" \n",
    "target=\"_blank\"><img src=\"https://img.shields.io/badge/python-3.10-blue.svg\" alt=\"Python Version\" /></a>\n",
    "\n",
    "___\n",
    "\n",
    "Combining pipeline, masks and ant parameter randomization\n",
    "\n",
    "The goal here is to warmstart the pheromone trails by applying ACO to a partition of the graph. Therefore we use intermediate pipelines with mask and eventually apply iterations on the entire problem"
   ]
  },
  {
   "cell_type": "code",
   "execution_count": 1,
   "metadata": {},
   "outputs": [
    {
     "name": "stderr",
     "output_type": "stream",
     "text": [
      "[SwarmPy] NumExpr defaulting to 8 threads.\n"
     ]
    }
   ],
   "source": [
    "import os \n",
    "import numpy as np\n",
    "import matplotlib.pyplot as plt\n",
    "os.chdir('..')\n",
    "from copy import deepcopy\n",
    "\n",
    "from swarmpy_tsp import *\n",
    "import plotly.express as px\n"
   ]
  },
  {
   "cell_type": "code",
   "execution_count": 2,
   "metadata": {},
   "outputs": [],
   "source": [
    "G1, opt_score = Antcoder('test_set/berlin52')"
   ]
  },
  {
   "cell_type": "code",
   "execution_count": 3,
   "metadata": {},
   "outputs": [],
   "source": [
    "mask = np.ones_like(G1['e'], dtype=bool)\n",
    "mid = int(G1['e'].shape[0]/2)\n",
    "mask[:mid, :mid] = 0"
   ]
  },
  {
   "cell_type": "code",
   "execution_count": 6,
   "metadata": {},
   "outputs": [
    {
     "name": "stderr",
     "output_type": "stream",
     "text": [
      "SwarmPy |Step| Score : 5945.115881258639: 100%|██████████| 10/10 [00:01<00:00,  6.65it/s]\n",
      "SwarmPy |Step| Score : 5854.271767621108: 100%|██████████| 10/10 [00:01<00:00,  8.66it/s]\n",
      "SwarmPy |Final Step| Score : 7944.5012345336645: 100%|██████████| 30/30 [00:07<00:00,  3.90it/s]\n",
      "SwarmPy | Score : 7944.5012345336645: 100%|██████████| 1/1 [00:10<00:00, 10.37s/it]\n",
      "SwarmPy |Step| Score : 6098.86713016118: 100%|██████████| 10/10 [00:01<00:00,  7.86it/s]\n",
      "SwarmPy |Step| Score : 5764.426116849343: 100%|██████████| 10/10 [00:01<00:00,  8.74it/s]\n",
      "SwarmPy |Final Step| Score : 7764.96122527121: 100%|██████████| 30/30 [00:07<00:00,  4.17it/s]\n",
      "SwarmPy | Score : 7764.96122527121: 100%|██████████| 1/1 [00:09<00:00,  9.62s/it]\n",
      "SwarmPy |Step| Score : 5971.120325035439: 100%|██████████| 10/10 [00:01<00:00,  7.17it/s]\n",
      "SwarmPy |Step| Score : 6084.243558495553: 100%|██████████| 10/10 [00:01<00:00,  7.59it/s]\n",
      "SwarmPy |Final Step| Score : 7658.958320375772: 100%|██████████| 30/30 [00:07<00:00,  4.17it/s]\n",
      "SwarmPy | Score : 7658.958320375772: 100%|██████████| 1/1 [00:09<00:00,  9.92s/it]\n",
      "SwarmPy |Step| Score : 5962.327872566144: 100%|██████████| 10/10 [00:01<00:00,  9.97it/s]\n",
      "SwarmPy |Step| Score : 5804.365879328169: 100%|██████████| 10/10 [00:01<00:00,  8.70it/s]\n",
      "SwarmPy |Final Step| Score : 7834.438768908108: 100%|██████████| 30/30 [00:05<00:00,  5.50it/s]\n",
      "SwarmPy | Score : 7834.438768908108: 100%|██████████| 1/1 [00:07<00:00,  7.61s/it]\n",
      "SwarmPy |Step| Score : 6101.02398925448: 100%|██████████| 10/10 [00:00<00:00, 10.24it/s]\n",
      "SwarmPy |Step| Score : 5665.99831784152: 100%|██████████| 10/10 [00:00<00:00, 10.03it/s]\n",
      "SwarmPy |Final Step| Score : 7793.827587957239: 100%|██████████| 30/30 [00:05<00:00,  5.56it/s]\n",
      "SwarmPy | Score : 7793.827587957239: 100%|██████████| 1/1 [00:07<00:00,  7.38s/it]\n",
      "SwarmPy |Step| Score : 5943.89618191528: 100%|██████████| 10/10 [00:00<00:00, 10.32it/s]\n",
      "SwarmPy |Step| Score : 5828.428613155516: 100%|██████████| 10/10 [00:00<00:00, 10.54it/s]\n",
      "SwarmPy |Final Step| Score : 8028.797110874426: 100%|██████████| 30/30 [00:05<00:00,  5.37it/s]\n",
      "SwarmPy | Score : 8028.797110874426: 100%|██████████| 1/1 [00:07<00:00,  7.51s/it]\n",
      "SwarmPy |Step| Score : 5953.740638834252: 100%|██████████| 10/10 [00:01<00:00,  8.66it/s]\n",
      "SwarmPy |Step| Score : 5775.20082146111: 100%|██████████| 10/10 [00:01<00:00,  7.73it/s]\n",
      "SwarmPy |Final Step| Score : 7857.369886281984: 100%|██████████| 30/30 [00:06<00:00,  4.34it/s]\n",
      "SwarmPy | Score : 7857.369886281984: 100%|██████████| 1/1 [00:09<00:00,  9.37s/it]\n",
      "SwarmPy |Step| Score : 6184.759006099801: 100%|██████████| 10/10 [00:01<00:00,  9.19it/s]\n",
      "SwarmPy |Step| Score : 5936.710796826749: 100%|██████████| 10/10 [00:01<00:00,  8.90it/s]\n",
      "SwarmPy |Final Step| Score : 7814.59715140056: 100%|██████████| 30/30 [00:06<00:00,  4.64it/s]\n",
      "SwarmPy | Score : 7814.59715140056: 100%|██████████| 1/1 [00:08<00:00,  8.69s/it]\n",
      "SwarmPy |Step| Score : 6062.6636619555575: 100%|██████████| 10/10 [00:01<00:00,  8.76it/s]\n",
      "SwarmPy |Step| Score : 6023.805960674691: 100%|██████████| 10/10 [00:01<00:00,  7.16it/s]\n",
      "SwarmPy |Final Step| Score : 7901.046369413848: 100%|██████████| 30/30 [00:06<00:00,  4.98it/s]\n",
      "SwarmPy | Score : 7901.046369413848: 100%|██████████| 1/1 [00:08<00:00,  8.58s/it]\n",
      "SwarmPy |Step| Score : 6056.779832366795: 100%|██████████| 10/10 [00:01<00:00,  7.77it/s]\n",
      "SwarmPy |Step| Score : 5976.062277581453: 100%|██████████| 10/10 [00:01<00:00,  9.71it/s]\n",
      "SwarmPy |Final Step| Score : 7979.92932796985: 100%|██████████| 30/30 [00:07<00:00,  4.07it/s]\n",
      "SwarmPy | Score : 7979.92932796985: 100%|██████████| 1/1 [00:09<00:00,  9.69s/it]\n"
     ]
    }
   ],
   "source": [
    "scores=[]\n",
    "for _ in range(10):\n",
    "    G = deepcopy(G1)\n",
    "\n",
    "    aco_with_Daemon1 = ACO_Pipeline(\n",
    "        [\n",
    "            (\"Planner\", RandomizedPlanner(alpha_bounds=[1.0,1.0], beta_bounds=[1.0,6.0], ant_params={'mask':mask})),\n",
    "            (\"Sol\", SolutionConstructor()),\n",
    "            (\"Updater\", BestTourPheromonesUpdater(bounds=[0.4,.6])),\n",
    "    ], iter_max=10, as_step=True\n",
    "    )\n",
    "\n",
    "    aco_with_Daemon2 = ACO_Pipeline(\n",
    "        [\n",
    "            (\"Planner\", RandomizedPlanner(alpha_bounds=[1.0,1.0], beta_bounds=[1.0,6.0], ant_params={'mask':~mask})),\n",
    "            (\"Sol\", SolutionConstructor()),\n",
    "            (\"Updater\", BestTourPheromonesUpdater(bounds=[0.4,.6])),\n",
    "            \n",
    "    ], iter_max=10, as_step=True\n",
    "    )\n",
    "\n",
    "    aco_final = ACO_Pipeline(\n",
    "        [\n",
    "            (\"Planner\", RandomizedPlanner(alpha_bounds=[1.0,1.0], beta_bounds=[1.0,6.0])),\n",
    "            (\"Sol\", SolutionConstructor()),\n",
    "            (\"DA\", DaemonActions()),\n",
    "            (\"Updater\", BestTourPheromonesUpdater(bounds=[0.1,1])),\n",
    "            \n",
    "    ], iter_max=30, last_step=True\n",
    "    )\n",
    "\n",
    "    optimus_prime_pipeline = ACO_Pipeline([('a', aco_with_Daemon1), ('b',aco_with_Daemon2), ('d',aco_final)], iter_max=1, metapipeline=True)\n",
    "\n",
    "    solutions_w_daemon = optimus_prime_pipeline.run(G=G,)\n",
    "    scores_w_daemon = np.array([el[1] for el in solutions_w_daemon['solutions']]) - opt_score\n",
    "\n",
    "    scores.append(scores_w_daemon)"
   ]
  },
  {
   "cell_type": "code",
   "execution_count": 13,
   "metadata": {},
   "outputs": [
    {
     "data": {
      "application/vnd.plotly.v1+json": {
       "config": {
        "plotlyServerURL": "https://plot.ly"
       },
       "data": [
        {
         "hovertemplate": "variable=0<br>index=%{x}<br>value=%{y}<extra></extra>",
         "legendgroup": "0",
         "line": {
          "color": "#636efa",
          "dash": "solid"
         },
         "marker": {
          "symbol": "circle"
         },
         "mode": "lines",
         "name": "0",
         "orientation": "v",
         "showlegend": true,
         "type": "scatter",
         "x": [
          0,
          1,
          2,
          3,
          4,
          5,
          6,
          7,
          8,
          9,
          10,
          11,
          12,
          13,
          14,
          15,
          16,
          17,
          18,
          19,
          20,
          21,
          22,
          23,
          24,
          25,
          26,
          27,
          28,
          29
         ],
         "xaxis": "x",
         "y": [
          260.69385106963495,
          238.03285406358378,
          213.72662905199795,
          186.58536181029916,
          188.8028942605745,
          107.45196392534416,
          162.96098825198197,
          162.96098825198197,
          152.53732402607503,
          153.70903693435056,
          154.20444278332516,
          129.6068672247206,
          129.6068672247206,
          129.6068672247206,
          129.04487581417968,
          112.37573839553137,
          118.65537106342956,
          116.12272569752409,
          116.12272569752409,
          90.19394650736668,
          90.19394650736668,
          90.19394650736668,
          90.19394650736668,
          88.74141442312178,
          85.16183113603904,
          85.16183113603904,
          104.02156429221905,
          104.02156429221905,
          104.02156429221905,
          104.02156429221905
         ],
         "yaxis": "y"
        }
       ],
       "layout": {
        "legend": {
         "title": {
          "text": "variable"
         },
         "tracegroupgap": 0
        },
        "margin": {
         "t": 60
        },
        "template": {
         "data": {
          "bar": [
           {
            "error_x": {
             "color": "#2a3f5f"
            },
            "error_y": {
             "color": "#2a3f5f"
            },
            "marker": {
             "line": {
              "color": "#E5ECF6",
              "width": 0.5
             },
             "pattern": {
              "fillmode": "overlay",
              "size": 10,
              "solidity": 0.2
             }
            },
            "type": "bar"
           }
          ],
          "barpolar": [
           {
            "marker": {
             "line": {
              "color": "#E5ECF6",
              "width": 0.5
             },
             "pattern": {
              "fillmode": "overlay",
              "size": 10,
              "solidity": 0.2
             }
            },
            "type": "barpolar"
           }
          ],
          "carpet": [
           {
            "aaxis": {
             "endlinecolor": "#2a3f5f",
             "gridcolor": "white",
             "linecolor": "white",
             "minorgridcolor": "white",
             "startlinecolor": "#2a3f5f"
            },
            "baxis": {
             "endlinecolor": "#2a3f5f",
             "gridcolor": "white",
             "linecolor": "white",
             "minorgridcolor": "white",
             "startlinecolor": "#2a3f5f"
            },
            "type": "carpet"
           }
          ],
          "choropleth": [
           {
            "colorbar": {
             "outlinewidth": 0,
             "ticks": ""
            },
            "type": "choropleth"
           }
          ],
          "contour": [
           {
            "colorbar": {
             "outlinewidth": 0,
             "ticks": ""
            },
            "colorscale": [
             [
              0,
              "#0d0887"
             ],
             [
              0.1111111111111111,
              "#46039f"
             ],
             [
              0.2222222222222222,
              "#7201a8"
             ],
             [
              0.3333333333333333,
              "#9c179e"
             ],
             [
              0.4444444444444444,
              "#bd3786"
             ],
             [
              0.5555555555555556,
              "#d8576b"
             ],
             [
              0.6666666666666666,
              "#ed7953"
             ],
             [
              0.7777777777777778,
              "#fb9f3a"
             ],
             [
              0.8888888888888888,
              "#fdca26"
             ],
             [
              1,
              "#f0f921"
             ]
            ],
            "type": "contour"
           }
          ],
          "contourcarpet": [
           {
            "colorbar": {
             "outlinewidth": 0,
             "ticks": ""
            },
            "type": "contourcarpet"
           }
          ],
          "heatmap": [
           {
            "colorbar": {
             "outlinewidth": 0,
             "ticks": ""
            },
            "colorscale": [
             [
              0,
              "#0d0887"
             ],
             [
              0.1111111111111111,
              "#46039f"
             ],
             [
              0.2222222222222222,
              "#7201a8"
             ],
             [
              0.3333333333333333,
              "#9c179e"
             ],
             [
              0.4444444444444444,
              "#bd3786"
             ],
             [
              0.5555555555555556,
              "#d8576b"
             ],
             [
              0.6666666666666666,
              "#ed7953"
             ],
             [
              0.7777777777777778,
              "#fb9f3a"
             ],
             [
              0.8888888888888888,
              "#fdca26"
             ],
             [
              1,
              "#f0f921"
             ]
            ],
            "type": "heatmap"
           }
          ],
          "heatmapgl": [
           {
            "colorbar": {
             "outlinewidth": 0,
             "ticks": ""
            },
            "colorscale": [
             [
              0,
              "#0d0887"
             ],
             [
              0.1111111111111111,
              "#46039f"
             ],
             [
              0.2222222222222222,
              "#7201a8"
             ],
             [
              0.3333333333333333,
              "#9c179e"
             ],
             [
              0.4444444444444444,
              "#bd3786"
             ],
             [
              0.5555555555555556,
              "#d8576b"
             ],
             [
              0.6666666666666666,
              "#ed7953"
             ],
             [
              0.7777777777777778,
              "#fb9f3a"
             ],
             [
              0.8888888888888888,
              "#fdca26"
             ],
             [
              1,
              "#f0f921"
             ]
            ],
            "type": "heatmapgl"
           }
          ],
          "histogram": [
           {
            "marker": {
             "pattern": {
              "fillmode": "overlay",
              "size": 10,
              "solidity": 0.2
             }
            },
            "type": "histogram"
           }
          ],
          "histogram2d": [
           {
            "colorbar": {
             "outlinewidth": 0,
             "ticks": ""
            },
            "colorscale": [
             [
              0,
              "#0d0887"
             ],
             [
              0.1111111111111111,
              "#46039f"
             ],
             [
              0.2222222222222222,
              "#7201a8"
             ],
             [
              0.3333333333333333,
              "#9c179e"
             ],
             [
              0.4444444444444444,
              "#bd3786"
             ],
             [
              0.5555555555555556,
              "#d8576b"
             ],
             [
              0.6666666666666666,
              "#ed7953"
             ],
             [
              0.7777777777777778,
              "#fb9f3a"
             ],
             [
              0.8888888888888888,
              "#fdca26"
             ],
             [
              1,
              "#f0f921"
             ]
            ],
            "type": "histogram2d"
           }
          ],
          "histogram2dcontour": [
           {
            "colorbar": {
             "outlinewidth": 0,
             "ticks": ""
            },
            "colorscale": [
             [
              0,
              "#0d0887"
             ],
             [
              0.1111111111111111,
              "#46039f"
             ],
             [
              0.2222222222222222,
              "#7201a8"
             ],
             [
              0.3333333333333333,
              "#9c179e"
             ],
             [
              0.4444444444444444,
              "#bd3786"
             ],
             [
              0.5555555555555556,
              "#d8576b"
             ],
             [
              0.6666666666666666,
              "#ed7953"
             ],
             [
              0.7777777777777778,
              "#fb9f3a"
             ],
             [
              0.8888888888888888,
              "#fdca26"
             ],
             [
              1,
              "#f0f921"
             ]
            ],
            "type": "histogram2dcontour"
           }
          ],
          "mesh3d": [
           {
            "colorbar": {
             "outlinewidth": 0,
             "ticks": ""
            },
            "type": "mesh3d"
           }
          ],
          "parcoords": [
           {
            "line": {
             "colorbar": {
              "outlinewidth": 0,
              "ticks": ""
             }
            },
            "type": "parcoords"
           }
          ],
          "pie": [
           {
            "automargin": true,
            "type": "pie"
           }
          ],
          "scatter": [
           {
            "fillpattern": {
             "fillmode": "overlay",
             "size": 10,
             "solidity": 0.2
            },
            "type": "scatter"
           }
          ],
          "scatter3d": [
           {
            "line": {
             "colorbar": {
              "outlinewidth": 0,
              "ticks": ""
             }
            },
            "marker": {
             "colorbar": {
              "outlinewidth": 0,
              "ticks": ""
             }
            },
            "type": "scatter3d"
           }
          ],
          "scattercarpet": [
           {
            "marker": {
             "colorbar": {
              "outlinewidth": 0,
              "ticks": ""
             }
            },
            "type": "scattercarpet"
           }
          ],
          "scattergeo": [
           {
            "marker": {
             "colorbar": {
              "outlinewidth": 0,
              "ticks": ""
             }
            },
            "type": "scattergeo"
           }
          ],
          "scattergl": [
           {
            "marker": {
             "colorbar": {
              "outlinewidth": 0,
              "ticks": ""
             }
            },
            "type": "scattergl"
           }
          ],
          "scattermapbox": [
           {
            "marker": {
             "colorbar": {
              "outlinewidth": 0,
              "ticks": ""
             }
            },
            "type": "scattermapbox"
           }
          ],
          "scatterpolar": [
           {
            "marker": {
             "colorbar": {
              "outlinewidth": 0,
              "ticks": ""
             }
            },
            "type": "scatterpolar"
           }
          ],
          "scatterpolargl": [
           {
            "marker": {
             "colorbar": {
              "outlinewidth": 0,
              "ticks": ""
             }
            },
            "type": "scatterpolargl"
           }
          ],
          "scatterternary": [
           {
            "marker": {
             "colorbar": {
              "outlinewidth": 0,
              "ticks": ""
             }
            },
            "type": "scatterternary"
           }
          ],
          "surface": [
           {
            "colorbar": {
             "outlinewidth": 0,
             "ticks": ""
            },
            "colorscale": [
             [
              0,
              "#0d0887"
             ],
             [
              0.1111111111111111,
              "#46039f"
             ],
             [
              0.2222222222222222,
              "#7201a8"
             ],
             [
              0.3333333333333333,
              "#9c179e"
             ],
             [
              0.4444444444444444,
              "#bd3786"
             ],
             [
              0.5555555555555556,
              "#d8576b"
             ],
             [
              0.6666666666666666,
              "#ed7953"
             ],
             [
              0.7777777777777778,
              "#fb9f3a"
             ],
             [
              0.8888888888888888,
              "#fdca26"
             ],
             [
              1,
              "#f0f921"
             ]
            ],
            "type": "surface"
           }
          ],
          "table": [
           {
            "cells": {
             "fill": {
              "color": "#EBF0F8"
             },
             "line": {
              "color": "white"
             }
            },
            "header": {
             "fill": {
              "color": "#C8D4E3"
             },
             "line": {
              "color": "white"
             }
            },
            "type": "table"
           }
          ]
         },
         "layout": {
          "annotationdefaults": {
           "arrowcolor": "#2a3f5f",
           "arrowhead": 0,
           "arrowwidth": 1
          },
          "autotypenumbers": "strict",
          "coloraxis": {
           "colorbar": {
            "outlinewidth": 0,
            "ticks": ""
           }
          },
          "colorscale": {
           "diverging": [
            [
             0,
             "#8e0152"
            ],
            [
             0.1,
             "#c51b7d"
            ],
            [
             0.2,
             "#de77ae"
            ],
            [
             0.3,
             "#f1b6da"
            ],
            [
             0.4,
             "#fde0ef"
            ],
            [
             0.5,
             "#f7f7f7"
            ],
            [
             0.6,
             "#e6f5d0"
            ],
            [
             0.7,
             "#b8e186"
            ],
            [
             0.8,
             "#7fbc41"
            ],
            [
             0.9,
             "#4d9221"
            ],
            [
             1,
             "#276419"
            ]
           ],
           "sequential": [
            [
             0,
             "#0d0887"
            ],
            [
             0.1111111111111111,
             "#46039f"
            ],
            [
             0.2222222222222222,
             "#7201a8"
            ],
            [
             0.3333333333333333,
             "#9c179e"
            ],
            [
             0.4444444444444444,
             "#bd3786"
            ],
            [
             0.5555555555555556,
             "#d8576b"
            ],
            [
             0.6666666666666666,
             "#ed7953"
            ],
            [
             0.7777777777777778,
             "#fb9f3a"
            ],
            [
             0.8888888888888888,
             "#fdca26"
            ],
            [
             1,
             "#f0f921"
            ]
           ],
           "sequentialminus": [
            [
             0,
             "#0d0887"
            ],
            [
             0.1111111111111111,
             "#46039f"
            ],
            [
             0.2222222222222222,
             "#7201a8"
            ],
            [
             0.3333333333333333,
             "#9c179e"
            ],
            [
             0.4444444444444444,
             "#bd3786"
            ],
            [
             0.5555555555555556,
             "#d8576b"
            ],
            [
             0.6666666666666666,
             "#ed7953"
            ],
            [
             0.7777777777777778,
             "#fb9f3a"
            ],
            [
             0.8888888888888888,
             "#fdca26"
            ],
            [
             1,
             "#f0f921"
            ]
           ]
          },
          "colorway": [
           "#636efa",
           "#EF553B",
           "#00cc96",
           "#ab63fa",
           "#FFA15A",
           "#19d3f3",
           "#FF6692",
           "#B6E880",
           "#FF97FF",
           "#FECB52"
          ],
          "font": {
           "color": "#2a3f5f"
          },
          "geo": {
           "bgcolor": "white",
           "lakecolor": "white",
           "landcolor": "#E5ECF6",
           "showlakes": true,
           "showland": true,
           "subunitcolor": "white"
          },
          "hoverlabel": {
           "align": "left"
          },
          "hovermode": "closest",
          "mapbox": {
           "style": "light"
          },
          "paper_bgcolor": "white",
          "plot_bgcolor": "#E5ECF6",
          "polar": {
           "angularaxis": {
            "gridcolor": "white",
            "linecolor": "white",
            "ticks": ""
           },
           "bgcolor": "#E5ECF6",
           "radialaxis": {
            "gridcolor": "white",
            "linecolor": "white",
            "ticks": ""
           }
          },
          "scene": {
           "xaxis": {
            "backgroundcolor": "#E5ECF6",
            "gridcolor": "white",
            "gridwidth": 2,
            "linecolor": "white",
            "showbackground": true,
            "ticks": "",
            "zerolinecolor": "white"
           },
           "yaxis": {
            "backgroundcolor": "#E5ECF6",
            "gridcolor": "white",
            "gridwidth": 2,
            "linecolor": "white",
            "showbackground": true,
            "ticks": "",
            "zerolinecolor": "white"
           },
           "zaxis": {
            "backgroundcolor": "#E5ECF6",
            "gridcolor": "white",
            "gridwidth": 2,
            "linecolor": "white",
            "showbackground": true,
            "ticks": "",
            "zerolinecolor": "white"
           }
          },
          "shapedefaults": {
           "line": {
            "color": "#2a3f5f"
           }
          },
          "ternary": {
           "aaxis": {
            "gridcolor": "white",
            "linecolor": "white",
            "ticks": ""
           },
           "baxis": {
            "gridcolor": "white",
            "linecolor": "white",
            "ticks": ""
           },
           "bgcolor": "#E5ECF6",
           "caxis": {
            "gridcolor": "white",
            "linecolor": "white",
            "ticks": ""
           }
          },
          "title": {
           "x": 0.05
          },
          "xaxis": {
           "automargin": true,
           "gridcolor": "white",
           "linecolor": "white",
           "ticks": "",
           "title": {
            "standoff": 15
           },
           "zerolinecolor": "white",
           "zerolinewidth": 2
          },
          "yaxis": {
           "automargin": true,
           "gridcolor": "white",
           "linecolor": "white",
           "ticks": "",
           "title": {
            "standoff": 15
           },
           "zerolinecolor": "white",
           "zerolinewidth": 2
          }
         }
        },
        "xaxis": {
         "anchor": "y",
         "domain": [
          0,
          1
         ],
         "title": {
          "text": "index"
         }
        },
        "yaxis": {
         "anchor": "x",
         "domain": [
          0,
          1
         ],
         "title": {
          "text": "value"
         }
        }
       }
      }
     },
     "metadata": {},
     "output_type": "display_data"
    }
   ],
   "source": [
    "px.line(np.std(scores, axis=0))\n",
    "\n",
    "# plt.plot(scores_w_daemon)\n",
    "# plt.xlabel('Iterations')\n",
    "# plt.ylabel('Gap between best solution and optimal solution')\n",
    "# plt.show()"
   ]
  },
  {
   "cell_type": "code",
   "execution_count": null,
   "metadata": {},
   "outputs": [],
   "source": []
  }
 ],
 "metadata": {
  "kernelspec": {
   "display_name": "Python 3.10.4 ('swarmpy-env')",
   "language": "python",
   "name": "python3"
  },
  "language_info": {
   "codemirror_mode": {
    "name": "ipython",
    "version": 3
   },
   "file_extension": ".py",
   "mimetype": "text/x-python",
   "name": "python",
   "nbconvert_exporter": "python",
   "pygments_lexer": "ipython3",
   "version": "3.10.4"
  },
  "orig_nbformat": 4,
  "vscode": {
   "interpreter": {
    "hash": "de8fa8ea3bb9edb7ed5b1ea3585d4592cef30b33e9fbed2d4a49b72c1728da03"
   }
  }
 },
 "nbformat": 4,
 "nbformat_minor": 2
}
