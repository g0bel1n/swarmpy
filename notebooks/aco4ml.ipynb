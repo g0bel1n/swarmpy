{
    "cells": [
        {
            "cell_type": "code",
            "execution_count": 1,
            "metadata": {},
            "outputs": [
                {
                    "name": "stderr",
                    "output_type": "stream",
                    "text": [
                        "[SwarmPy] NumExpr defaulting to 8 threads.\n"
                    ]
                }
            ],
            "source": [
                "import os \n",
                "import numpy as np\n",
                "import matplotlib.pyplot as plt\n",
                "from copy import deepcopy\n",
                "os.chdir('..')\n",
                "from aco4ml import *\n",
                "import plotly.express as px\n",
                "from sklearn.linear_model import LogisticRegression"
            ]
        },
        {
            "cell_type": "code",
            "execution_count": 9,
            "metadata": {},
            "outputs": [],
            "source": [
                "X = np.random.uniform(size=1000).reshape((100,10))\n",
                "params  = {'penalty' : ['l1','l2', 'none', 'elasticnet'], 'C' : [i/10 for i in range(10)], 'solver' : ['newton-cg', 'lbfgs', 'liblinear', 'sag', 'saga']}\n",
                "y = (sum(i * X[:,i] for i in range(X.shape[1]) if not i%2) > 8).astype(int)\n",
                "\n",
                "G, id2hp, hp_map = Antcoder(params,X, y)"
            ]
        },
        {
            "cell_type": "code",
            "execution_count": null,
            "metadata": {},
            "outputs": [],
            "source": []
        },
        {
            "cell_type": "code",
            "execution_count": 10,
            "metadata": {},
            "outputs": [],
            "source": [
                "aco_pipeline = ACO_Pipeline(\n",
                "    [\n",
                "        (\"Planner\", Planner({\"alpha\": 1.0, \"beta\": 2.0, 'gamma' : 1.0, 'n_feature_obj' : 5, 'n_hp' : len(params)})),\n",
                "        (\"Sol\", SolutionConstructor(hp_map=hp_map)),\n",
                "        (\"DA\", DaemonActions()),\n",
                "        (\"Updater\", BestSoFarPheromonesUpdater(X=X, y=y, estimator = LogisticRegression, bounds=[.1, 1], Q=1)),\n",
                "\n",
                "    ], \n",
                "    iter_max=20,\n",
                "    id2hp=id2hp, \n",
                "\n",
                ")"
            ]
        },
        {
            "cell_type": "code",
            "execution_count": 12,
            "metadata": {},
            "outputs": [
                {
                    "name": "stderr",
                    "output_type": "stream",
                    "text": [
                        "SwarmPy | Score : [0.85]: 100%|██████████| 20/20 [00:06<00:00,  2.87it/s]\n"
                    ]
                }
            ],
            "source": [
                "solutions = aco_pipeline.run(G)['solutions']"
            ]
        },
        {
            "cell_type": "code",
            "execution_count": 13,
            "metadata": {},
            "outputs": [],
            "source": [
                "solutions = [[1, 2, 6, 8, 9, 12, 21, 24], [2, 6, 7, 8, 9, 11, 23, 28], [0, 1, 2, 6, 8, 12, 18, 25], [1, 4, 5, 6, 8, 10, 21, 26], [2, 4, 5, 6, 8, 13, 22, 28], [0, 3, 4, 6, 8, 13, 21, 24], [2, 3, 6, 8, 9, 11, 22, 24], [1, 6, 7, 8, 9, 13, 19, 24], [2, 3, 5, 7, 8, 12, 18, 24], [1, 6, 7, 8, 9, 13, 15, 27]]\n",
                "\n",
                "params = []\n",
                "for solution in solutions:\n",
                "            intermediate_list = [id2hp[_id] for _id in solution[5:]]\n",
                "            intermediate_list = dict([id2hp[_id] for _id in solution[5:]])\n",
                "            params.append(intermediate_list)"
            ]
        },
        {
            "cell_type": "code",
            "execution_count": 14,
            "metadata": {},
            "outputs": [
                {
                    "data": {
                        "text/plain": [
                            "[{'penalty': 'none', 'C': 0.7, 'solver': 'newton-cg'},\n",
                            " {'penalty': 'l2', 'C': 0.9, 'solver': 'saga'},\n",
                            " {'penalty': 'none', 'C': 0.4, 'solver': 'lbfgs'},\n",
                            " {'penalty': 'l1', 'C': 0.7, 'solver': 'liblinear'},\n",
                            " {'penalty': 'elasticnet', 'C': 0.8, 'solver': 'saga'},\n",
                            " {'penalty': 'elasticnet', 'C': 0.7, 'solver': 'newton-cg'},\n",
                            " {'penalty': 'l2', 'C': 0.8, 'solver': 'newton-cg'},\n",
                            " {'penalty': 'elasticnet', 'C': 0.5, 'solver': 'newton-cg'},\n",
                            " {'penalty': 'none', 'C': 0.4, 'solver': 'newton-cg'},\n",
                            " {'penalty': 'elasticnet', 'C': 0.1, 'solver': 'sag'}]"
                        ]
                    },
                    "execution_count": 14,
                    "metadata": {},
                    "output_type": "execute_result"
                }
            ],
            "source": [
                "params"
            ]
        },
        {
            "cell_type": "code",
            "execution_count": null,
            "metadata": {},
            "outputs": [],
            "source": []
        }
    ],
    "metadata": {
        "kernelspec": {
            "display_name": "Python 3.10.4 ('swarmpy-env')",
            "language": "python",
            "name": "python3"
        },
        "language_info": {
            "codemirror_mode": {
                "name": "ipython",
                "version": 3
            },
            "file_extension": ".py",
            "mimetype": "text/x-python",
            "name": "python",
            "nbconvert_exporter": "python",
            "pygments_lexer": "ipython3",
            "version": "3.10.4"
        },
        "orig_nbformat": 4,
        "vscode": {
            "interpreter": {
                "hash": "de8fa8ea3bb9edb7ed5b1ea3585d4592cef30b33e9fbed2d4a49b72c1728da03"
            }
        }
    },
    "nbformat": 4,
    "nbformat_minor": 2
}
