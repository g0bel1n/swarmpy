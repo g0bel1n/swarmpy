{
    "cells": [
        {
            "cell_type": "code",
            "execution_count": 1,
            "metadata": {},
            "outputs": [
                {
                    "name": "stderr",
                    "output_type": "stream",
                    "text": [
                        "[SwarmPy] NumExpr defaulting to 8 threads.\n"
                    ]
                }
            ],
            "source": [
                "import os \n",
                "import numpy as np\n",
                "import matplotlib.pyplot as plt\n",
                "from copy import deepcopy\n",
                "os.chdir('..')\n",
                "from aco4ml import *\n",
                "import plotly.express as px\n",
                "from sklearn.linear_model import LogisticRegression, LogisticRegressionCV\n",
                "from sklearn.model_selection import StratifiedKFold\n",
                "from sklearn.datasets import load_digits, load_breast_cancer\n",
                "from sklearn.ensemble import RandomForestClassifier\n"
            ]
        },
        {
            "cell_type": "code",
            "execution_count": 2,
            "metadata": {},
            "outputs": [],
            "source": [
                "digits = load_breast_cancer()"
            ]
        },
        {
            "cell_type": "code",
            "execution_count": null,
            "metadata": {},
            "outputs": [],
            "source": []
        },
        {
            "cell_type": "code",
            "execution_count": 3,
            "metadata": {},
            "outputs": [],
            "source": [
                "\n",
                "params  = { \n",
                "    'n_estimators': [200, 500],\n",
                "    'max_features': ['auto', 'sqrt', 'log2'],\n",
                "    'max_depth' : [4,5,6,7,8],\n",
                "    'criterion' :['gini', 'entropy']\n",
                "}\n",
                "\n",
                "X = np.random.uniform(size=50000).reshape((1000,50))\n",
                "y = (X[:,2]>0.5).astype(int) + (X[:,12]>0.5).astype(int) + (X[:,22]>0.5).astype(int) + (X[:,32]>0.5).astype(int)\n",
                "\n",
                "\n",
                "# X = digits['data']\n",
                "# y = digits['target']\n",
                "\n",
                "cut = int(len(y)*.8)\n",
                "X_train,X_test  = X[:cut,:],X[cut:,:]\n",
                "y_train,y_test  = y[:cut],y[cut:]\n",
                "n_feature_obj = 5\n",
                "\n",
                "\n",
                "G, id2hp, hp_map = Antcoder(params,X_train, y_train)"
            ]
        },
        {
            "cell_type": "code",
            "execution_count": 4,
            "metadata": {},
            "outputs": [],
            "source": [
                "aco_pipeline = ACO_Pipeline(\n",
                "    [\n",
                "        (\"Planner\", Planner({\"alpha\": 1.0, \"beta\": 5.0, 'gamma' : 1.0, 'n_feature_obj' : n_feature_obj, 'n_hp' : len(params)})),\n",
                "        (\"Sol\", SolutionConstructor(hp_map=hp_map)),\n",
                "        (\"DA\", DaemonActions()),\n",
                "        (\"Updater\", BestSoFarPheromonesUpdater(X=X_train, y=y_train, estimator = RandomForestClassifier, bounds=[.1, 1], Q=.1)),\n",
                "\n",
                "    ], \n",
                "    iter_max=20,\n",
                "    id2hp=id2hp, \n",
                "\n",
                ")"
            ]
        },
        {
            "cell_type": "code",
            "execution_count": 5,
            "metadata": {},
            "outputs": [
                {
                    "name": "stderr",
                    "output_type": "stream",
                    "text": [
                        "SwarmPy | Score : [0.9875]: 100%|██████████| 20/20 [42:34<00:00, 127.73s/it] \n"
                    ]
                }
            ],
            "source": [
                "solutions = aco_pipeline.run(G)['solutions']"
            ]
        },
        {
            "cell_type": "code",
            "execution_count": null,
            "metadata": {},
            "outputs": [],
            "source": []
        },
        {
            "cell_type": "code",
            "execution_count": 6,
            "metadata": {},
            "outputs": [
                {
                    "data": {
                        "text/plain": [
                            "[<matplotlib.lines.Line2D at 0x7fd74a54d150>]"
                        ]
                    },
                    "execution_count": 6,
                    "metadata": {},
                    "output_type": "execute_result"
                },
                {
                    "data": {
                        "image/png": "[encoded data removed]",
                        "text/plain": [
                            "<Figure size 432x288 with 1 Axes>"
                        ]
                    },
                    "metadata": {
                        "needs_background": "light"
                    },
                    "output_type": "display_data"
                }
            ],
            "source": [
                "plt.plot([sol[1] for sol in solutions])"
            ]
        },
        {
            "cell_type": "code",
            "execution_count": 7,
            "metadata": {},
            "outputs": [
                {
                    "data": {
                        "text/plain": [
                            "[([1, 12, 14, 22, 44, 51, 54, 57, 61], array([0.5175])),\n",
                            " ([2, 10, 12, 22, 32, 50, 52, 55, 60], array([0.9475])),\n",
                            " ([2, 12, 22, 32, 38, 50, 54, 58, 60], array([0.975])),\n",
                            " ([2, 12, 14, 22, 32, 50, 54, 58, 60], array([0.97375])),\n",
                            " ([2, 10, 12, 22, 32, 50, 53, 58, 61], array([0.975])),\n",
                            " ([2, 12, 22, 27, 32, 50, 54, 57, 60], array([0.97875])),\n",
                            " ([2, 12, 22, 32, 40, 50, 54, 59, 61], array([0.98625])),\n",
                            " ([2, 12, 22, 32, 42, 50, 54, 59, 61], array([0.98375])),\n",
                            " ([2, 9, 12, 22, 32, 50, 54, 58, 61], array([0.985])),\n",
                            " ([2, 12, 22, 28, 32, 50, 52, 59, 61], array([0.98125])),\n",
                            " ([2, 12, 22, 24, 32, 50, 54, 59, 61], array([0.98])),\n",
                            " ([2, 5, 12, 22, 32, 50, 52, 58, 61], array([0.98375])),\n",
                            " ([2, 12, 18, 22, 32, 50, 54, 58, 61], array([0.97875])),\n",
                            " ([2, 12, 22, 32, 33, 50, 54, 58, 61], array([0.98375])),\n",
                            " ([2, 12, 22, 32, 42, 50, 52, 58, 61], array([0.9875])),\n",
                            " ([2, 12, 21, 22, 32, 50, 52, 58, 61], array([0.975])),\n",
                            " ([2, 12, 22, 25, 32, 50, 54, 58, 61], array([0.9825])),\n",
                            " ([2, 12, 22, 23, 32, 50, 54, 59, 61], array([0.985])),\n",
                            " ([1, 2, 12, 22, 32, 50, 52, 59, 61], array([0.98375])),\n",
                            " ([2, 12, 22, 27, 32, 51, 52, 58, 61], array([0.98625]))]"
                        ]
                    },
                    "execution_count": 7,
                    "metadata": {},
                    "output_type": "execute_result"
                }
            ],
            "source": [
                "solutions"
            ]
        },
        {
            "cell_type": "code",
            "execution_count": 8,
            "metadata": {},
            "outputs": [],
            "source": [
                "best_sol = max(solutions, key=lambda x: x[1])[0]"
            ]
        },
        {
            "cell_type": "code",
            "execution_count": 9,
            "metadata": {},
            "outputs": [],
            "source": [
                "best_params = dict([id2hp[_id] for _id in best_sol[n_feature_obj:]])\n",
                "best_cols = best_sol[:n_feature_obj]"
            ]
        },
        {
            "cell_type": "code",
            "execution_count": 10,
            "metadata": {},
            "outputs": [],
            "source": [
                "\n",
                "\n",
                "params = []\n",
                "for solution,_ in solutions:\n",
                "            intermediate_list = dict([id2hp[_id] for _id in solution[n_feature_obj:]])\n",
                "            params.append(intermediate_list)"
            ]
        },
        {
            "cell_type": "code",
            "execution_count": 11,
            "metadata": {},
            "outputs": [
                {
                    "data": {
                        "text/plain": [
                            "[{'n_estimators': 500,\n",
                            "  'max_features': 'log2',\n",
                            "  'max_depth': 6,\n",
                            "  'criterion': 'entropy'},\n",
                            " {'n_estimators': 200,\n",
                            "  'max_features': 'auto',\n",
                            "  'max_depth': 4,\n",
                            "  'criterion': 'gini'},\n",
                            " {'n_estimators': 200,\n",
                            "  'max_features': 'log2',\n",
                            "  'max_depth': 7,\n",
                            "  'criterion': 'gini'},\n",
                            " {'n_estimators': 200,\n",
                            "  'max_features': 'log2',\n",
                            "  'max_depth': 7,\n",
                            "  'criterion': 'gini'},\n",
                            " {'n_estimators': 200,\n",
                            "  'max_features': 'sqrt',\n",
                            "  'max_depth': 7,\n",
                            "  'criterion': 'entropy'},\n",
                            " {'n_estimators': 200,\n",
                            "  'max_features': 'log2',\n",
                            "  'max_depth': 6,\n",
                            "  'criterion': 'gini'},\n",
                            " {'n_estimators': 200,\n",
                            "  'max_features': 'log2',\n",
                            "  'max_depth': 8,\n",
                            "  'criterion': 'entropy'},\n",
                            " {'n_estimators': 200,\n",
                            "  'max_features': 'log2',\n",
                            "  'max_depth': 8,\n",
                            "  'criterion': 'entropy'},\n",
                            " {'n_estimators': 200,\n",
                            "  'max_features': 'log2',\n",
                            "  'max_depth': 7,\n",
                            "  'criterion': 'entropy'},\n",
                            " {'n_estimators': 200,\n",
                            "  'max_features': 'auto',\n",
                            "  'max_depth': 8,\n",
                            "  'criterion': 'entropy'},\n",
                            " {'n_estimators': 200,\n",
                            "  'max_features': 'log2',\n",
                            "  'max_depth': 8,\n",
                            "  'criterion': 'entropy'},\n",
                            " {'n_estimators': 200,\n",
                            "  'max_features': 'auto',\n",
                            "  'max_depth': 7,\n",
                            "  'criterion': 'entropy'},\n",
                            " {'n_estimators': 200,\n",
                            "  'max_features': 'log2',\n",
                            "  'max_depth': 7,\n",
                            "  'criterion': 'entropy'},\n",
                            " {'n_estimators': 200,\n",
                            "  'max_features': 'log2',\n",
                            "  'max_depth': 7,\n",
                            "  'criterion': 'entropy'},\n",
                            " {'n_estimators': 200,\n",
                            "  'max_features': 'auto',\n",
                            "  'max_depth': 7,\n",
                            "  'criterion': 'entropy'},\n",
                            " {'n_estimators': 200,\n",
                            "  'max_features': 'auto',\n",
                            "  'max_depth': 7,\n",
                            "  'criterion': 'entropy'},\n",
                            " {'n_estimators': 200,\n",
                            "  'max_features': 'log2',\n",
                            "  'max_depth': 7,\n",
                            "  'criterion': 'entropy'},\n",
                            " {'n_estimators': 200,\n",
                            "  'max_features': 'log2',\n",
                            "  'max_depth': 8,\n",
                            "  'criterion': 'entropy'},\n",
                            " {'n_estimators': 200,\n",
                            "  'max_features': 'auto',\n",
                            "  'max_depth': 8,\n",
                            "  'criterion': 'entropy'},\n",
                            " {'n_estimators': 500,\n",
                            "  'max_features': 'auto',\n",
                            "  'max_depth': 7,\n",
                            "  'criterion': 'entropy'}]"
                        ]
                    },
                    "execution_count": 11,
                    "metadata": {},
                    "output_type": "execute_result"
                }
            ],
            "source": [
                "params"
            ]
        },
        {
            "cell_type": "code",
            "execution_count": 12,
            "metadata": {},
            "outputs": [],
            "source": [
                "lr_aco = RandomForestClassifier(**best_params).fit(X_train[:,best_cols], y_train)\n",
                "lr = RandomForestClassifier().fit(X_train, y_train)"
            ]
        },
        {
            "cell_type": "code",
            "execution_count": 13,
            "metadata": {},
            "outputs": [
                {
                    "name": "stdout",
                    "output_type": "stream",
                    "text": [
                        " ACO : 0.985\n",
                        " Not ACO : 0.76\n"
                    ]
                }
            ],
            "source": [
                "print(f' ACO : {lr_aco.score(X_test[:,best_cols],y_test)}')\n",
                "print(f' Not ACO : {lr.score(X_test,y_test)}')"
            ]
        },
        {
            "cell_type": "code",
            "execution_count": 14,
            "metadata": {},
            "outputs": [
                {
                    "ename": "AttributeError",
                    "evalue": "'RandomForestClassifier' object has no attribute 'coef_'",
                    "output_type": "error",
                    "traceback": [
                        "\u001b[0;31m---------------------------------------------------------------------------\u001b[0m",
                        "\u001b[0;31mAttributeError\u001b[0m                            Traceback (most recent call last)",
                        "\u001b[1;32m/Users/g0bel1n/swarmpy/notebooks/aco4ml.ipynb Cell 16'\u001b[0m in \u001b[0;36m<cell line: 1>\u001b[0;34m()\u001b[0m\n\u001b[0;32m----> <a href='vscode-notebook-cell:/Users/g0bel1n/swarmpy/notebooks/aco4ml.ipynb#ch0000014?line=0'>1</a>\u001b[0m np\u001b[39m.\u001b[39msum((np\u001b[39m.\u001b[39mround(np\u001b[39m.\u001b[39msqrt(lr_aco\u001b[39m.\u001b[39;49mcoef_  \u001b[39m/\u001b[39m lr_aco\u001b[39m.\u001b[39mcoef_[\u001b[39m0\u001b[39m][\u001b[39m0\u001b[39m])\u001b[39m*\u001b[39m\u001b[39m2\u001b[39m) \u001b[39m-\u001b[39m np\u001b[39m.\u001b[39msqrt(lr_aco\u001b[39m.\u001b[39mcoef_  \u001b[39m/\u001b[39m lr_aco\u001b[39m.\u001b[39mcoef_[\u001b[39m0\u001b[39m][\u001b[39m0\u001b[39m])\u001b[39m*\u001b[39m\u001b[39m2\u001b[39m)\u001b[39m*\u001b[39m\u001b[39m*\u001b[39m\u001b[39m2\u001b[39m)\n",
                        "\u001b[0;31mAttributeError\u001b[0m: 'RandomForestClassifier' object has no attribute 'coef_'"
                    ]
                }
            ],
            "source": [
                "np.sum((np.round(np.sqrt(lr_aco.coef_  / lr_aco.coef_[0][0])*2) - np.sqrt(lr_aco.coef_  / lr_aco.coef_[0][0])*2)**2)"
            ]
        },
        {
            "cell_type": "code",
            "execution_count": 15,
            "metadata": {},
            "outputs": [
                {
                    "data": {
                        "text/plain": [
                            "[2, 12, 22, 32, 42]"
                        ]
                    },
                    "execution_count": 15,
                    "metadata": {},
                    "output_type": "execute_result"
                }
            ],
            "source": [
                "best_cols"
            ]
        },
        {
            "cell_type": "code",
            "execution_count": 16,
            "metadata": {},
            "outputs": [
                {
                    "data": {
                        "text/plain": [
                            "{'n_estimators': 200,\n",
                            " 'max_features': 'auto',\n",
                            " 'max_depth': 7,\n",
                            " 'criterion': 'entropy'}"
                        ]
                    },
                    "execution_count": 16,
                    "metadata": {},
                    "output_type": "execute_result"
                }
            ],
            "source": [
                "best_params"
            ]
        },
        {
            "cell_type": "code",
            "execution_count": null,
            "metadata": {},
            "outputs": [
                {
                    "data": {
                        "text/plain": [
                            "array([[-1.41536380e+01, -1.36742192e+01, -1.32653353e+01,\n",
                            "        -1.34266856e+01,  6.08885712e-01],\n",
                            "       [-5.58269418e+00, -5.98973935e+00, -5.73501954e+00,\n",
                            "        -6.27837305e+00, -1.33117241e-01],\n",
                            "       [ 4.63104354e-01,  2.76867271e-01,  4.98523400e-01,\n",
                            "         5.55961675e-02, -2.91463707e-01],\n",
                            "       [ 7.19148655e+00,  7.05207349e+00,  6.95440006e+00,\n",
                            "         7.08578338e+00, -1.77642267e-01],\n",
                            "       [ 1.20817412e+01,  1.23350178e+01,  1.15474314e+01,\n",
                            "         1.25636791e+01, -6.66249735e-03]])"
                        ]
                    },
                    "execution_count": 68,
                    "metadata": {},
                    "output_type": "execute_result"
                }
            ],
            "source": [
                "lr_aco.coef_ "
            ]
        }
    ],
    "metadata": {
        "kernelspec": {
            "display_name": "Python 3.10.4 ('swarmpy-env')",
            "language": "python",
            "name": "python3"
        },
        "language_info": {
            "codemirror_mode": {
                "name": "ipython",
                "version": 3
            },
            "file_extension": ".py",
            "mimetype": "text/x-python",
            "name": "python",
            "nbconvert_exporter": "python",
            "pygments_lexer": "ipython3",
            "version": "3.10.4"
        },
        "orig_nbformat": 4,
        "vscode": {
            "interpreter": {
                "hash": "de8fa8ea3bb9edb7ed5b1ea3585d4592cef30b33e9fbed2d4a49b72c1728da03"
            }
        }
    },
    "nbformat": 4,
    "nbformat_minor": 2
}
